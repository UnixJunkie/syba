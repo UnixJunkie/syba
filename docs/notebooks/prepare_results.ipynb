{
 "cells": [
  {
   "cell_type": "markdown",
   "metadata": {},
   "source": [
    "# SYBA - comparison with other methods"
   ]
  },
  {
   "cell_type": "markdown",
   "metadata": {},
   "source": [
    "## Requirments\n",
    "We compared SYBA with SAScore (https://github.com/rdkit/rdkit/tree/master/Contrib/SA_Score), SCScore (https://github.com/connorcoley/scscore) and random forest trained within scikit-learn framework so these packages have to be installed. RDKit is needed for all models (SYBA, SAScore, SCScore, RF). To run this notebook is also needed Jupyter.\n",
    "\n",
    "To obtain SAScore and SCScore, you have to download them from repositories and add them to PYTHONPATH before running Jupyter:\n",
    "```bash\n",
    "export PYTHONPATH=PATH_TO_SASCORE:PATH_TO_SCSCORE:$PYTHONPATH\n",
    "jupyter notebook\n",
    "```"
   ]
  },
  {
   "cell_type": "code",
   "execution_count": 1,
   "metadata": {},
   "outputs": [
    {
     "name": "stderr",
     "output_type": "stream",
     "text": [
      "/home/milan/miniconda3/envs/rdkit/lib/python3.6/site-packages/sklearn/externals/joblib/__init__.py:15: DeprecationWarning: sklearn.externals.joblib is deprecated in 0.21 and will be removed in 0.23. Please import this functionality directly from joblib, which can be installed with: pip install joblib. If this warning is raised when loading pickled models, you may need to re-serialize those models with scikit-learn 0.21+.\n",
      "  warnings.warn(msg, category=DeprecationWarning)\n"
     ]
    }
   ],
   "source": [
    "from sklearn.externals import joblib\n",
    "from rdkit.Chem.Draw import IPythonConsole #Needed to show molecules+\n",
    "from rdkit.Chem import Draw\n",
    "from rdkit.Chem import AllChem as Chem\n",
    "import gzip\n",
    "import os"
   ]
  },
  {
   "cell_type": "code",
   "execution_count": 2,
   "metadata": {},
   "outputs": [],
   "source": [
    "from syba.syba import SybaClassifier, SmiMolSupplier\n",
    "from scscore.scscore.standalone_model_numpy import SCScorer\n",
    "import sascorer as sa\n",
    "from sklearn.ensemble import RandomForestClassifier"
   ]
  },
  {
   "cell_type": "markdown",
   "metadata": {},
   "source": [
    "# How models predict scores or classes"
   ]
  },
  {
   "cell_type": "code",
   "execution_count": 3,
   "metadata": {},
   "outputs": [
    {
     "data": {
      "image/png": "[encoded data removed]",
      "text/plain": [
       "<rdkit.Chem.rdchem.Mol at 0x7f96e4d496c0>"
      ]
     },
     "execution_count": 3,
     "metadata": {},
     "output_type": "execute_result"
    }
   ],
   "source": [
    "smi = \"C12C3N1C1C4=C3C35C6C4C4C(N36)C14C25\"\n",
    "mol = Chem.MolFromSmiles(smi)\n",
    "Chem.MolFromSmiles(smi)"
   ]
  },
  {
   "cell_type": "markdown",
   "metadata": {},
   "source": [
    "## SYBA"
   ]
  },
  {
   "cell_type": "code",
   "execution_count": 4,
   "metadata": {},
   "outputs": [
    {
     "data": {
      "text/plain": [
       "-60.86762700982583"
      ]
     },
     "execution_count": 4,
     "metadata": {},
     "output_type": "execute_result"
    }
   ],
   "source": [
    "syba = SybaClassifier()\n",
    "syba.fitDefaultScore()\n",
    "syba.predict(smi)"
   ]
  },
  {
   "cell_type": "markdown",
   "metadata": {},
   "source": [
    "## SAScore"
   ]
  },
  {
   "cell_type": "code",
   "execution_count": 5,
   "metadata": {},
   "outputs": [
    {
     "data": {
      "text/plain": [
       "7.4766997119046525"
      ]
     },
     "execution_count": 5,
     "metadata": {},
     "output_type": "execute_result"
    }
   ],
   "source": [
    "sa.calculateScore(mol)"
   ]
  },
  {
   "cell_type": "markdown",
   "metadata": {},
   "source": [
    "## SCScore"
   ]
  },
  {
   "cell_type": "code",
   "execution_count": 6,
   "metadata": {},
   "outputs": [
    {
     "name": "stdout",
     "output_type": "stream",
     "text": [
      "Restored variables from /home/milan/workspace/nonaccesible_chemical_space_phase3/src/scscore/models/full_reaxys_model_1024bool/model.ckpt-10654.as_numpy.pickle\n"
     ]
    },
    {
     "data": {
      "text/plain": [
       "3.0544092099974898"
      ]
     },
     "execution_count": 6,
     "metadata": {},
     "output_type": "execute_result"
    }
   ],
   "source": [
    "scscore = SCScorer()\n",
    "scscore.restore()\n",
    "scscore.get_score_from_smi(smi)[1]"
   ]
  },
  {
   "cell_type": "markdown",
   "metadata": {},
   "source": [
    "## Random forest"
   ]
  },
  {
   "cell_type": "markdown",
   "metadata": {},
   "source": [
    "Random forest classifier is trained on 1024-bit fingerprints (model can't be shared within this repository due to its enormous size 1.6GB)"
   ]
  },
  {
   "cell_type": "code",
   "execution_count": 7,
   "metadata": {},
   "outputs": [
    {
     "name": "stderr",
     "output_type": "stream",
     "text": [
      "/home/milan/miniconda3/envs/rdkit/lib/python3.6/site-packages/sklearn/base.py:306: UserWarning: Trying to unpickle estimator DecisionTreeClassifier from version 0.19.1 when using version 0.21.3. This might lead to breaking code or invalid results. Use at your own risk.\n",
      "  UserWarning)\n",
      "/home/milan/miniconda3/envs/rdkit/lib/python3.6/site-packages/sklearn/base.py:306: UserWarning: Trying to unpickle estimator RandomForestClassifier from version 0.19.1 when using version 0.21.3. This might lead to breaking code or invalid results. Use at your own risk.\n",
      "  UserWarning)\n"
     ]
    },
    {
     "data": {
      "text/plain": [
       "(0, array([0.99, 0.01]))"
      ]
     },
     "execution_count": 7,
     "metadata": {},
     "output_type": "execute_result"
    }
   ],
   "source": [
    "nBits = 1024\n",
    "if not os.path.exists(\"../data/rf.pkl\"):\n",
    "    syn_fps = [Chem.GetMorganFingerprintAsBitVect(spls[0],2,nBits=nBits) for spls in SmiMolSupplier(gzip.open(\"../data/structures_2.csv.gz\", mode=\"rt\"), header=True, smi_col=1)]\n",
    "    syn_classes = [1 for x in range(len(syn_fps))]\n",
    "    non_fps = [Chem.GetMorganFingerprintAsBitVect(spls[0],2,nBits=nBits) for spls in SmiMolSupplier(gzip.open(\"../data/structures_1.csv.gz\", mode=\"rt\"), header=True, smi_col=2)]\n",
    "    non_classes = [0 for x in range(len(non_fps))]\n",
    "    fps = syn_fps + non_fps\n",
    "    classes = syn_classes + non_classes\n",
    "\n",
    "    clf = RandomForestClassifier(n_estimators=100)\n",
    "    clf.fit(fps, classes)\n",
    "    joblib.dump(clf, \"../data/rf.pkl\")\n",
    "else:\n",
    "    clf = joblib.load(\"../data/rf.pkl\")\n",
    "    \n",
    "fp = Chem.GetMorganFingerprintAsBitVect(mol,2,nBits=nBits)\n",
    "clf.predict([fp])[0], clf.predict_proba([fp])[0]"
   ]
  },
  {
   "cell_type": "markdown",
   "metadata": {},
   "source": [
    "## Prepare result files\n",
    "### Test files"
   ]
  },
  {
   "cell_type": "code",
   "execution_count": 8,
   "metadata": {},
   "outputs": [],
   "source": [
    "inpath = \"../data/\"\n",
    "outpath = \"../out/\"\n",
    "files = [\"test_set_mc_syn.csv\", \"test_set_mc_non.csv\", \"test_set_cp_syn.csv\", \"test_set_cp_non.csv\"]\n",
    "for f in files:\n",
    "    with open(inpath+f) as inp, open(outpath+f, \"w\") as out:\n",
    "        header = inp.readline().strip()\n",
    "        out.write(header)\n",
    "        out.write(\",syba,sascore,scscore,rf_class,rf_prob\\n\")\n",
    "        for line in inp:\n",
    "            idx, smi = line.strip().split(\",\")\n",
    "            mol = Chem.MolFromSmiles(smi)\n",
    "            fp = Chem.GetMorganFingerprintAsBitVect(mol,2,nBits=nBits)\n",
    "            out.write(\"{},{},{},{},{},{},{}\\n\".format(idx, smi, syba.predict(smi), sa.calculateScore(mol), scscore.get_score_from_smi(smi)[1], clf.predict([fp])[0], clf.predict_proba([fp])[0][1]))"
   ]
  },
  {
   "cell_type": "markdown",
   "metadata": {},
   "source": [
    "### Training files\n",
    "This code takes few hours"
   ]
  },
  {
   "cell_type": "code",
   "execution_count": 9,
   "metadata": {},
   "outputs": [],
   "source": [
    "inpath = \"../data/\"\n",
    "outpath = \"../out/\"\n",
    "#          INP_FILENAME,      SMI_COL,  OUT_FILENAME\n",
    "files = [(\"structures_1.csv.gz\", 2, \"train_set_non.csv\"), (\"structures_2.csv.gz\", 1, \"train_set_syn.csv\")]\n",
    "for f, col, out_filename in files:\n",
    "    with gzip.open(inpath+f, mode=\"rt\") as inp, open(outpath+out_filename, \"w\") as out:\n",
    "        header = inp.readline().strip()\n",
    "        out.write(\"idx,smiles,syba,sascore,scscore,rf_class,rf_prob\\n\")\n",
    "        for line in inp:\n",
    "            spls = line.strip().split(\",\")\n",
    "            idx, smi = spls[0], spls[col]\n",
    "            mol = Chem.MolFromSmiles(smi)\n",
    "            fp = Chem.GetMorganFingerprintAsBitVect(mol,2,nBits=nBits)\n",
    "            out.write(\"{},{},{},{},{},{},{}\\n\".format(idx, smi, syba.predict(smi), sa.calculateScore(mol), scscore.get_score_from_smi(smi)[1], clf.predict([fp])[0], clf.predict_proba([fp])[0][1]))"
   ]
  },
  {
   "cell_type": "code",
   "execution_count": null,
   "metadata": {},
   "outputs": [],
   "source": []
  }
 ],
 "metadata": {
  "kernelspec": {
   "display_name": "Python 3",
   "language": "python",
   "name": "python3"
  },
  "language_info": {
   "codemirror_mode": {
    "name": "ipython",
    "version": 3
   },
   "file_extension": ".py",
   "mimetype": "text/x-python",
   "name": "python",
   "nbconvert_exporter": "python",
   "pygments_lexer": "ipython3",
   "version": "3.6.9"
  }
 },
 "nbformat": 4,
 "nbformat_minor": 2
}
